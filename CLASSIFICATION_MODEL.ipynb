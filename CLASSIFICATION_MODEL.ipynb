{
  "cells": [
    {
      "cell_type": "markdown",
      "metadata": {
        "id": "view-in-github",
        "colab_type": "text"
      },
      "source": [
        "<a href=\"https://colab.research.google.com/github/Charithasri20/Week-1/blob/main/CLASSIFICATION_MODEL.ipynb\" target=\"_parent\"><img src=\"https://colab.research.google.com/assets/colab-badge.svg\" alt=\"Open In Colab\"/></a>"
      ]
    },
    {
      "cell_type": "markdown",
      "metadata": {
        "id": "Y7fN7-kq0b0_"
      },
      "source": [
        "WASTE MANAGEMENT USING CNN MODEL\n"
      ]
    },
    {
      "cell_type": "code",
      "execution_count": 12,
      "metadata": {
        "colab": {
          "base_uri": "https://localhost:8080/"
        },
        "id": "U82d5IKK0O4v",
        "outputId": "3801ec01-043b-4679-e74b-452f42569da4"
      },
      "outputs": [
        {
          "output_type": "stream",
          "name": "stdout",
          "text": [
            "Requirement already satisfied: opencv-python in /usr/local/lib/python3.11/dist-packages (4.10.0.84)\n",
            "Requirement already satisfied: numpy>=1.21.2 in /usr/local/lib/python3.11/dist-packages (from opencv-python) (1.26.4)\n"
          ]
        }
      ],
      "source": [
        "pip install opencv-python"
      ]
    },
    {
      "cell_type": "code",
      "execution_count": 5,
      "metadata": {
        "id": "10FejL3f1wwJ"
      },
      "outputs": [],
      "source": [
        "#pip install tensorflow"
      ]
    },
    {
      "cell_type": "code",
      "execution_count": 6,
      "metadata": {
        "id": "UVikKYWY06Bp"
      },
      "outputs": [],
      "source": [
        "#Impoting necessary libraries\n",
        "import numpy as np\n",
        "import pandas as pd\n",
        "import matplotlib.pyplot as plt\n",
        "import cv2\n",
        "from tqdm import tqdm\n",
        "import warnings\n",
        "warnings.filterwarnings('ignore')"
      ]
    },
    {
      "cell_type": "code",
      "execution_count": 15,
      "metadata": {
        "id": "nBT3HQoK2WME"
      },
      "outputs": [],
      "source": [
        "train_path = \"https://www.kaggle.com/api/v1/datasets/download/techsash/waste-classification-data\"\n",
        "test_path = \"https://www.kaggle.com/api/v1/datasets/download/techsash/waste-classification-data\""
      ]
    },
    {
      "cell_type": "code",
      "execution_count": 8,
      "metadata": {
        "id": "zDgB0wTJ20Kr"
      },
      "outputs": [],
      "source": [
        "#Importing libraries\n",
        "from tensorflow.keras.models import Sequential\n",
        "from tensorflow.keras.layers import Conv2D, MaxPooling2D, Activation, Dropout, Flatten, Dense, BatchNormalization\n",
        "from tensorflow.keras.preprocessing.image import ImageDataGenerator, img_to_array, load_img\n",
        "from tensorflow.keras.utils import plot_model\n",
        "from glob import glob"
      ]
    },
    {
      "cell_type": "code",
      "execution_count": 9,
      "metadata": {
        "id": "mugRSe005BSZ"
      },
      "outputs": [],
      "source": [
        "#Visualization\n",
        "from cv2 import cvtColor\n",
        "x_data = []\n",
        "y_data = []\n",
        "for category in glob(train_path+'/*'):\n",
        "  for file in tqdm(glob(category+'/*')):\n",
        "    img_array = cv2.inread(file)\n",
        "    img_array = cv2.Color(img_array, cv2.COLOR_BGR2BGRA)\n",
        "    x_data.append(img_array)\n",
        "    y_data.append(category.split('/')[-1])\n",
        "data = pd.DataFrame({'image' :x_data, 'label' :y_data})"
      ]
    },
    {
      "cell_type": "code",
      "execution_count": 10,
      "metadata": {
        "colab": {
          "base_uri": "https://localhost:8080/"
        },
        "id": "p1MPMS9R7Cri",
        "outputId": "8aaaeda5-3959-47ac-ea19-37885cd25ea1"
      },
      "outputs": [
        {
          "output_type": "execute_result",
          "data": {
            "text/plain": [
              "(0, 2)"
            ]
          },
          "metadata": {},
          "execution_count": 10
        }
      ],
      "source": [
        "data.shape"
      ]
    },
    {
      "cell_type": "code",
      "source": [
        "import matplotlib.pyplot as plt\n",
        "import pandas as pd\n",
        "data = {'label': ['Organic', 'Recyclable', 'Organic', 'Recyclable', 'Organic']}\n",
        "data = pd.DataFrame(data)\n",
        "value_counts = data['label'].value_counts()\n",
        "colors = ['#a0d157', '#c48bb8']\n",
        "plt.pie(value_counts, labels=value_counts.index, autopct='%0.2f%%', colors=colors, startangle=90, explode=[0.05] * len(value_counts))\n",
        "plt.show()\n"
      ],
      "metadata": {
        "colab": {
          "base_uri": "https://localhost:8080/",
          "height": 406
        },
        "id": "iyMjs4beUK50",
        "outputId": "833a5355-f76c-46c0-8e30-647c5cc821d3"
      },
      "execution_count": 11,
      "outputs": [
        {
          "output_type": "display_data",
          "data": {
            "text/plain": [
              "<Figure size 640x480 with 1 Axes>"
            ],
            "image/png": "[encoded data removed]"
          },
          "metadata": {}
        }
      ]
    }
  ],
  "metadata": {
    "colab": {
      "provenance": [],
      "include_colab_link": true
    },
    "kernelspec": {
      "display_name": "Python 3",
      "name": "python3"
    }
  },
  "nbformat": 4,
  "nbformat_minor": 0
}